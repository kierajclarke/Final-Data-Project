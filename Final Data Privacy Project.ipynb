{
 "cells": [
  {
   "cell_type": "code",
   "execution_count": 1,
   "id": "cb755c55",
   "metadata": {
    "scrolled": true,
    "ExecuteTime": {
     "end_time": "2023-12-10T21:41:20.485983400Z",
     "start_time": "2023-12-10T21:41:19.845196600Z"
    }
   },
   "outputs": [],
   "source": [
    "# Load the data and libraries\n",
    "import pandas as pd\n",
    "import numpy as np\n",
    "import random\n",
    "import matplotlib.pyplot as plt\n",
    "\n",
    "def laplace_mech(v, sensitivity, epsilon):\n",
    "    return v + np.random.laplace(loc=0, scale=sensitivity / epsilon)\n",
    "\n",
    "def laplace_mech_vec(vec, sensitivity, epsilon):\n",
    "    return [v + np.random.laplace(loc=0, scale=sensitivity / epsilon) for v in vec]\n",
    "\n",
    "def gaussian_mech(v, sensitivity, epsilon, delta):\n",
    "    return v + np.random.normal(loc=0, scale=sensitivity * np.sqrt(2*np.log(1.25/delta)) / epsilon)\n",
    "\n",
    "def gaussian_mech_vec(vec, sensitivity, epsilon, delta):\n",
    "    return [v + np.random.normal(loc=0, scale=sensitivity * np.sqrt(2*np.log(1.25/delta)) / epsilon)\n",
    "            for v in vec]\n",
    "\n",
    "def pct_error(orig, priv):\n",
    "    return np.abs(orig - priv)/orig * 100.0\n",
    "\n",
    "def above_threshold(queries, T, epsilon):\n",
    "    T_hat = T + np.random.laplace(loc=0, scale = 2/epsilon)\n",
    "    \n",
    "    for idx, q in enumerate(queries):\n",
    "        nu_i = np.random.laplace(loc=0, scale = 4/epsilon)\n",
    "        if q + nu_i >= T_hat:\n",
    "            return idx\n",
    "    return random.randint(0,len(queries)-1)\n",
    "\n",
    "def range_query(df, col, a, b):\n",
    "    return len(df[(df[col] >= a) & (df[col] < b)])\n"
   ]
  },
  {
   "cell_type": "code",
   "execution_count": 2,
   "outputs": [],
   "source": [
    "import requests\n",
    "from io import StringIO\n",
    "\n",
    "url = 'https://raw.githubusercontent.com/kierajclarke/Final-Data-Project/main/student_math_clean.csv'\n",
    "response = requests.get(url)\n",
    "raw_data = pd.read_csv(StringIO(response.text))\n"
   ],
   "metadata": {
    "collapsed": false,
    "ExecuteTime": {
     "end_time": "2023-12-10T21:41:21.091651100Z",
     "start_time": "2023-12-10T21:41:20.488142400Z"
    }
   },
   "id": "19cb7003a4aa5c83"
  },
  {
   "cell_type": "markdown",
   "id": "dcf2f762",
   "metadata": {},
   "source": [
    "# Preprocessing"
   ]
  },
  {
   "cell_type": "markdown",
   "source": [
    "First we select columns related to academic metrics and sex and preprocess the data. Since our aim is to analyze the data of highschool students, we want to limit the age range of the students so that outlying ages do not skew accuracy."
   ],
   "metadata": {
    "collapsed": false
   },
   "id": "5866f3b53f552ce6"
  },
  {
   "cell_type": "code",
   "execution_count": 3,
   "id": "3dd9e202",
   "metadata": {
    "ExecuteTime": {
     "end_time": "2023-12-10T21:41:21.120301Z",
     "start_time": "2023-12-10T21:41:21.098514600Z"
    }
   },
   "outputs": [
    {
     "name": "stdout",
     "output_type": "stream",
     "text": [
      "   age sex  grade_1  grade_2  final_grade\n",
      "0   18   F       25       30           30\n",
      "1   17   F       25       25           30\n",
      "2   15   F       35       40           50\n",
      "3   15   F       75       70           75\n",
      "4   16   F       30       50           50\n"
     ]
    }
   ],
   "source": [
    "# Select columns to go into data\n",
    "columns = ['age', 'sex', 'grade_1', 'grade_2', 'final_grade']\n",
    "data = raw_data[columns]\n",
    "\n",
    "\n",
    "# Convert grades to percentages\n",
    "# Multiply by 5 to convert from 0-20 to 0-100\n",
    "data.loc[:, ['grade_1', 'grade_2', 'final_grade']] = raw_data[['grade_1', 'grade_2', 'final_grade']] * 5\n",
    "\n",
    "# Display the first few rows with grades converted to percentages\n",
    "print(data.head())\n",
    "\n",
    "# Separate the data by sex\n",
    "male_data = data[data['sex'] == 'M']\n",
    "female_data = data[data['sex'] == 'F']"
   ]
  },
  {
   "cell_type": "markdown",
   "id": "c8f40316",
   "metadata": {},
   "source": [
    "# Average Grades"
   ]
  },
  {
   "cell_type": "markdown",
   "source": [
    "## Laplace and Gaussian Differential Privacy"
   ],
   "metadata": {
    "collapsed": false
   },
   "id": "e34a5ff50f2cccba"
  },
  {
   "cell_type": "markdown",
   "source": [
    "#### Actual Means"
   ],
   "metadata": {
    "collapsed": false
   },
   "id": "c16a37e24cfc765b"
  },
  {
   "cell_type": "code",
   "execution_count": 4,
   "id": "5260fd7d",
   "metadata": {
    "ExecuteTime": {
     "end_time": "2023-12-10T21:41:21.121382Z",
     "start_time": "2023-12-10T21:41:21.111443600Z"
    }
   },
   "outputs": [
    {
     "name": "stdout",
     "output_type": "stream",
     "text": [
      "Mean final grade for Male students: 54.57219251336898\n",
      "Mean final grade for Female students: 49.83173076923077\n"
     ]
    }
   ],
   "source": [
    "# Calculate means for each sex\n",
    "mean_grade_male = male_data['final_grade'].mean()\n",
    "mean_grade_female = female_data['final_grade'].mean()\n",
    "\n",
    "print(\"Mean final grade for Male students:\", mean_grade_male)\n",
    "print(\"Mean final grade for Female students:\", mean_grade_female)\n"
   ]
  },
  {
   "cell_type": "markdown",
   "id": "47973593",
   "metadata": {},
   "source": [
    "#### Laplace Mechanism"
   ]
  },
  {
   "cell_type": "code",
   "execution_count": 5,
   "id": "ff42fc89",
   "metadata": {
    "ExecuteTime": {
     "end_time": "2023-12-10T21:41:21.379320600Z",
     "start_time": "2023-12-10T21:41:21.117126900Z"
    }
   },
   "outputs": [
    {
     "name": "stdout",
     "output_type": "stream",
     "text": [
      "Laplace mean final grade for Male students: 53.27673177834193\n",
      "Laplace mean final grade for Female students: 50.776508352928474\n"
     ]
    }
   ],
   "source": [
    "def laplace_mean_grade(df, epsilon):\n",
    "    def create_query(b):\n",
    "        return df.clip(lower=0, upper=b).sum() - df.clip(lower=0, upper=b+1).sum()\n",
    "    \n",
    "    bs = list(range(0, 100, 1))\n",
    "\n",
    "    # Construct the stream of queries\n",
    "    queries = [create_query(b) for b in bs]\n",
    "    \n",
    "    # Run AboveThreshold, using 1/3 of the privacy budget, to find a good upper clipping parameter/sensitivity\n",
    "    epsilon_svt = epsilon / 3\n",
    "    final_b = bs[above_threshold(queries, 0, epsilon_svt)]\n",
    "\n",
    "    # Compute the noisy sum and noisy count, using 1/3 of the privacy budget for each\n",
    "    epsilon_sum = epsilon / 3\n",
    "    epsilon_count = epsilon / 3\n",
    "    \n",
    "    noisy_sum = laplace_mech(df.clip(lower=0, upper=final_b).sum(), final_b, epsilon_sum)\n",
    "    noisy_count = laplace_mech(len(df), 1, epsilon_count)\n",
    "    \n",
    "    return noisy_sum / noisy_count\n",
    "\n",
    "# Apply Laplace noise to counts and sums\n",
    "laplace_mean_grade_male = laplace_mean_grade(male_data['final_grade'], 1.0)\n",
    "laplace_mean_grade_female = laplace_mean_grade(female_data['final_grade'], 1.0)\n",
    "\n",
    "print(\"Laplace mean final grade for Male students:\", laplace_mean_grade_male)\n",
    "print(\"Laplace mean final grade for Female students:\", laplace_mean_grade_female)\n"
   ]
  },
  {
   "cell_type": "markdown",
   "id": "99beef94",
   "metadata": {},
   "source": [
    "#### Gaussian Mechanism"
   ]
  },
  {
   "cell_type": "code",
   "execution_count": 6,
   "id": "1ad0e373",
   "metadata": {
    "ExecuteTime": {
     "end_time": "2023-12-10T21:41:21.633820100Z",
     "start_time": "2023-12-10T21:41:21.407955700Z"
    }
   },
   "outputs": [
    {
     "name": "stdout",
     "output_type": "stream",
     "text": [
      "Noisy mean grades for Male students: 48.18729232045374\n",
      "Noisy mean grades for Female students: 47.13388924769339\n"
     ]
    }
   ],
   "source": [
    "def gaussian_mean_grade(df, epsilon, delta):\n",
    "    def create_query(b):\n",
    "        return df.clip(lower=0, upper=b).sum() - df.clip(lower=0, upper=b+1).sum()\n",
    "    \n",
    "    bs = list(range(0, 100, 1))\n",
    "\n",
    "    # Construct the stream of queries\n",
    "    queries = [create_query(b) for b in bs]\n",
    "    \n",
    "    # Run AboveThreshold, using 1/3 of the privacy budget, to find a good upper clipping parameter/sensitivity\n",
    "    epsilon_svt = epsilon / 3\n",
    "    final_b = bs[above_threshold(queries, 0, epsilon_svt)]\n",
    "\n",
    "    # Compute the noisy sum and noisy count, using 1/3 of the privacy budget for each\n",
    "    epsilon_sum = epsilon / 3\n",
    "    epsilon_count = epsilon / 3\n",
    "    \n",
    "    noisy_sum = gaussian_mech(df.clip(lower=0, upper=final_b).sum(), final_b, epsilon_sum, delta)\n",
    "    noisy_count = gaussian_mech(len(df), 1, epsilon_count, delta)\n",
    "    \n",
    "    return noisy_sum / noisy_count\n",
    "    \n",
    "gaussian_mean_grade_male = gaussian_mean_grade(male_data['final_grade'], 1.0, 1e-5)\n",
    "gaussian_mean_grade_female = gaussian_mean_grade(female_data['final_grade'], 1.0, 1e-5)\n",
    "\n",
    "print(\"Noisy mean grades for Male students:\", gaussian_mean_grade_male)\n",
    "print(\"Noisy mean grades for Female students:\", gaussian_mean_grade_female)"
   ]
  },
  {
   "cell_type": "markdown",
   "source": [
    "## Comparison of Laplace and Gaussian"
   ],
   "metadata": {
    "collapsed": false
   },
   "id": "c400e2ede3a8ad01"
  },
  {
   "cell_type": "markdown",
   "source": [
    "#### Graphs"
   ],
   "metadata": {
    "collapsed": false
   },
   "id": "89734e767feec307"
  },
  {
   "cell_type": "code",
   "execution_count": 7,
   "outputs": [
    {
     "name": "stdout",
     "output_type": "stream",
     "text": [
      "Laplace Male - Done\n",
      "Gaussian Male - Done\n",
      "Laplace Female - Done\n",
      "Gaussian Female - Done\n"
     ]
    }
   ],
   "source": [
    "# Compute values in their own cell so that we don't have to keep rerunning the thing - takes forever\n",
    "laplace_mean_grades_male = [laplace_mean_grade(male_data['final_grade'], 1.0) for _ in range(1000)]\n",
    "print(\"Laplace Male - Done\")\n",
    "gaussian_mean_grades_male = [gaussian_mean_grade(male_data['final_grade'], 1.0, 1e-5) for _ in range(1000)]\n",
    "print(\"Gaussian Male - Done\")\n",
    "\n",
    "laplace_mean_grades_female = [laplace_mean_grade(female_data['final_grade'], 1.0) for _ in range(1000)]\n",
    "print(\"Laplace Female - Done\")\n",
    "gaussian_mean_grades_female = [gaussian_mean_grade(female_data['final_grade'], 1.0, 1e-5) for _ in range(1000)]\n",
    "print(\"Gaussian Female - Done\")"
   ],
   "metadata": {
    "collapsed": false,
    "ExecuteTime": {
     "end_time": "2023-12-10T21:48:52.681817900Z",
     "start_time": "2023-12-10T21:41:21.635935300Z"
    }
   },
   "id": "d8981b78e3b930c6"
  },
  {
   "cell_type": "code",
   "execution_count": 8,
   "outputs": [
    {
     "data": {
      "text/plain": "<matplotlib.legend.Legend at 0x29fa734e550>"
     },
     "execution_count": 8,
     "metadata": {},
     "output_type": "execute_result"
    },
    {
     "data": {
      "text/plain": "<Figure size 640x480 with 1 Axes>",
      "image/png": "[encoded data removed]"
     },
     "metadata": {},
     "output_type": "display_data"
    }
   ],
   "source": [
    "plt.hist(laplace_mean_grades_male, bins=50, label='Laplace')\n",
    "plt.hist(gaussian_mean_grades_male, alpha=.7, bins=50, label='Gaussian')\n",
    "plt.legend()"
   ],
   "metadata": {
    "collapsed": false,
    "ExecuteTime": {
     "end_time": "2023-12-10T21:48:52.940696200Z",
     "start_time": "2023-12-10T21:48:52.675507700Z"
    }
   },
   "id": "e04a33567f744502"
  },
  {
   "cell_type": "code",
   "execution_count": 9,
   "outputs": [
    {
     "data": {
      "text/plain": "<matplotlib.legend.Legend at 0x29fa7399810>"
     },
     "execution_count": 9,
     "metadata": {},
     "output_type": "execute_result"
    },
    {
     "data": {
      "text/plain": "<Figure size 640x480 with 1 Axes>",
      "image/png": "[encoded data removed]"
     },
     "metadata": {},
     "output_type": "display_data"
    }
   ],
   "source": [
    "plt.hist(laplace_mean_grades_female, bins=50, label='Laplace')\n",
    "plt.hist(gaussian_mean_grades_female, alpha=.7, bins=50, label='Gaussian')\n",
    "plt.legend()"
   ],
   "metadata": {
    "collapsed": false,
    "ExecuteTime": {
     "end_time": "2023-12-10T21:48:53.356692Z",
     "start_time": "2023-12-10T21:48:52.935382700Z"
    }
   },
   "id": "fc9892b3c0518aa6"
  },
  {
   "cell_type": "markdown",
   "source": [
    "#### Percent Errors"
   ],
   "metadata": {
    "collapsed": false
   },
   "id": "b55f8172c1cb1adf"
  },
  {
   "cell_type": "markdown",
   "source": [],
   "metadata": {
    "collapsed": false
   },
   "id": "5ef327db051f2298"
  },
  {
   "cell_type": "code",
   "execution_count": 10,
   "outputs": [
    {
     "name": "stdout",
     "output_type": "stream",
     "text": [
      "Average Percent Error Laplace Male:  4.361552392706846\n",
      "Average Percent Error Gaussian Male:  11.811458634547984\n",
      "Average Percent Error Laplace Female:  4.277596864509281\n",
      "Average Percent Error Gaussian Female:  11.194565319660837\n"
     ]
    }
   ],
   "source": [
    "laplace_male_pct_error = np.mean([pct_error(mean_grade_male, x) for x in laplace_mean_grades_male])\n",
    "gaussian_male_pct_error = np.mean([pct_error(mean_grade_male, x) for x in gaussian_mean_grades_male])\n",
    "\n",
    "laplace_female_pct_error = np.mean([pct_error(mean_grade_female, x) for x in laplace_mean_grades_female])\n",
    "gaussian_female_pct_error = np.mean([pct_error(mean_grade_female, x) for x in gaussian_mean_grades_female])\n",
    "\n",
    "print(\"Average Percent Error Laplace Male: \", laplace_male_pct_error)\n",
    "print(\"Average Percent Error Gaussian Male: \", gaussian_male_pct_error)\n",
    "\n",
    "print(\"Average Percent Error Laplace Female: \", laplace_female_pct_error)\n",
    "print(\"Average Percent Error Gaussian Female: \", gaussian_female_pct_error)"
   ],
   "metadata": {
    "collapsed": false,
    "ExecuteTime": {
     "end_time": "2023-12-10T21:48:53.356692Z",
     "start_time": "2023-12-10T21:48:53.306420300Z"
    }
   },
   "id": "8aa877c21b319574"
  },
  {
   "cell_type": "markdown",
   "source": [
    "# Synthetic Data"
   ],
   "metadata": {
    "collapsed": false
   },
   "id": "dafc060a83cac82b"
  },
  {
   "cell_type": "markdown",
   "source": [
    "## Two-Marginals"
   ],
   "metadata": {
    "collapsed": false
   },
   "id": "724c31a6fca08493"
  },
  {
   "cell_type": "code",
   "execution_count": 11,
   "outputs": [],
   "source": [
    "def dp_two_marginal(df, col1, col2, epsilon):\n",
    "    # Empty dataframe to hold everything\n",
    "    out_df = pd.DataFrame()\n",
    "    \n",
    "    # Get crosstab\n",
    "    ct = pd.crosstab(df[col1], df[col2])\n",
    "    \n",
    "    # Apply laplace mechanism to data in crosstab\n",
    "    dp_ct = ct.map(lambda x: max(laplace_mech(x, 1, epsilon), 0))\n",
    "    \n",
    "    # Convert to list of lists\n",
    "    dp_vals = dp_ct.stack().reset_index().values.tolist()\n",
    "    \n",
    "    # Add columns 1 and 2 to dataframe\n",
    "    col1_data = [a for a,_,_ in dp_vals]\n",
    "    col2_data = [b for _,b,_ in dp_vals]\n",
    "    out_df[col1] = col1_data\n",
    "    out_df[col2] = col2_data\n",
    "    \n",
    "    # Calculate probabilities and add to dataframe\n",
    "    probs = [p for _,_,p in dp_vals]\n",
    "    probs_norm = probs / np.sum(probs)\n",
    "    out_df['probability'] = probs_norm\n",
    "    \n",
    "    return out_df"
   ],
   "metadata": {
    "collapsed": false,
    "ExecuteTime": {
     "end_time": "2023-12-10T21:48:53.357776800Z",
     "start_time": "2023-12-10T21:48:53.306420300Z"
    }
   },
   "id": "96be4a2a5a3627c1"
  },
  {
   "cell_type": "code",
   "execution_count": 12,
   "outputs": [
    {
     "data": {
      "text/plain": "    age sex  grade_1  grade_2  final_grade\n3    16   M       70     80.0         55.0\n3    16   M       75     75.0         60.0\n2    16   F       65     70.0         75.0\n7    18   M       40     40.0         55.0\n3    16   M       30     45.0          0.0\n..  ...  ..      ...      ...          ...\n8    19   F       50     60.0         55.0\n7    18   M       95     20.0         95.0\n5    17   M       65     60.0         60.0\n2    16   F       65     70.0         75.0\n9    19   M       85     50.0         60.0\n\n[395 rows x 5 columns]",
      "text/html": "<div>\n<style scoped>\n    .dataframe tbody tr th:only-of-type {\n        vertical-align: middle;\n    }\n\n    .dataframe tbody tr th {\n        vertical-align: top;\n    }\n\n    .dataframe thead th {\n        text-align: right;\n    }\n</style>\n<table border=\"1\" class=\"dataframe\">\n  <thead>\n    <tr style=\"text-align: right;\">\n      <th></th>\n      <th>age</th>\n      <th>sex</th>\n      <th>grade_1</th>\n      <th>grade_2</th>\n      <th>final_grade</th>\n    </tr>\n  </thead>\n  <tbody>\n    <tr>\n      <th>3</th>\n      <td>16</td>\n      <td>M</td>\n      <td>70</td>\n      <td>80.0</td>\n      <td>55.0</td>\n    </tr>\n    <tr>\n      <th>3</th>\n      <td>16</td>\n      <td>M</td>\n      <td>75</td>\n      <td>75.0</td>\n      <td>60.0</td>\n    </tr>\n    <tr>\n      <th>2</th>\n      <td>16</td>\n      <td>F</td>\n      <td>65</td>\n      <td>70.0</td>\n      <td>75.0</td>\n    </tr>\n    <tr>\n      <th>7</th>\n      <td>18</td>\n      <td>M</td>\n      <td>40</td>\n      <td>40.0</td>\n      <td>55.0</td>\n    </tr>\n    <tr>\n      <th>3</th>\n      <td>16</td>\n      <td>M</td>\n      <td>30</td>\n      <td>45.0</td>\n      <td>0.0</td>\n    </tr>\n    <tr>\n      <th>...</th>\n      <td>...</td>\n      <td>...</td>\n      <td>...</td>\n      <td>...</td>\n      <td>...</td>\n    </tr>\n    <tr>\n      <th>8</th>\n      <td>19</td>\n      <td>F</td>\n      <td>50</td>\n      <td>60.0</td>\n      <td>55.0</td>\n    </tr>\n    <tr>\n      <th>7</th>\n      <td>18</td>\n      <td>M</td>\n      <td>95</td>\n      <td>20.0</td>\n      <td>95.0</td>\n    </tr>\n    <tr>\n      <th>5</th>\n      <td>17</td>\n      <td>M</td>\n      <td>65</td>\n      <td>60.0</td>\n      <td>60.0</td>\n    </tr>\n    <tr>\n      <th>2</th>\n      <td>16</td>\n      <td>F</td>\n      <td>65</td>\n      <td>70.0</td>\n      <td>75.0</td>\n    </tr>\n    <tr>\n      <th>9</th>\n      <td>19</td>\n      <td>M</td>\n      <td>85</td>\n      <td>50.0</td>\n      <td>60.0</td>\n    </tr>\n  </tbody>\n</table>\n<p>395 rows × 5 columns</p>\n</div>"
     },
     "execution_count": 12,
     "metadata": {},
     "output_type": "execute_result"
    }
   ],
   "source": [
    "def dp_synthetic_data_two_marginal(df, cols, n, epsilon):\n",
    "    \n",
    "    # Get marginals\n",
    "    marg0 = dp_two_marginal(df, cols[0], cols[1], epsilon)\n",
    "    marg1 = dp_two_marginal(df, cols[1], cols[2], epsilon)\n",
    "    marg2 = dp_two_marginal(df, cols[2], cols[3], epsilon)\n",
    "    marg3 = dp_two_marginal(df, cols[3], cols[4], epsilon)\n",
    "    \n",
    "    # Sample initial data from marg0\n",
    "    syn_df = marg0.sample(n, replace=True, weights=marg0['probability'])[[cols[0], cols[1]]]\n",
    "    \n",
    "    # Add grade_1 data\n",
    "    grade_1s = []\n",
    "    \n",
    "    for val in syn_df[cols[1]]:\n",
    "        \n",
    "        # Get data for relevant Sex\n",
    "        marg1_filter = marg1.loc[marg1[cols[1]] == val].copy()\n",
    "        \n",
    "        # Normalize filtered data\n",
    "        marg1_filter['probability'] = marg1_filter['probability'] / marg1_filter['probability'].sum()\n",
    "        \n",
    "        dp_vals = list(marg1_filter.itertuples(index=False, name=None))\n",
    "        \n",
    "        probs = [p for _,_,p in dp_vals]\n",
    "        vals = [b for _,b,_ in dp_vals]\n",
    "        \n",
    "        indices = range(0, len(vals))\n",
    "        i = np.random.choice(indices, p=probs)\n",
    "        grade_1s.append(vals[i])\n",
    "        \n",
    "    syn_df[cols[2]] = grade_1s\n",
    "    \n",
    "    # Add grade_2 data\n",
    "    grade_2s = []\n",
    "    \n",
    "    for val in syn_df[cols[2]]:\n",
    "        # Get data for relevant Occupation\n",
    "        marg2_filter = marg2.loc[marg2[cols[2]] == val].copy()\n",
    "        \n",
    "        # Normalize filtered data\n",
    "        marg2_filter['probability'] = marg2_filter['probability'] / marg2_filter['probability'].sum()\n",
    "        \n",
    "        dp_vals = list(marg2_filter.itertuples(index=False, name=None))\n",
    "        \n",
    "        probs = [p for _,_,p in dp_vals]\n",
    "        vals = [b for _,b,_ in dp_vals]\n",
    "        \n",
    "        indices = range(0, len(vals))\n",
    "        \n",
    "        i = np.random.choice(indices, p=probs)\n",
    "        grade_2s.append(vals[i])\n",
    "        \n",
    "    syn_df[cols[3]] = grade_2s\n",
    "    \n",
    "    # Add final grade data\n",
    "    final_grades = []\n",
    "    \n",
    "    for val in syn_df[cols[3]]:\n",
    "        # Get data for relevant Occupation\n",
    "        marg3_filter = marg3.loc[marg3[cols[3]] == val].copy()\n",
    "        \n",
    "        # Normalize filtered data\n",
    "        marg3_filter['probability'] = marg3_filter['probability'] / marg3_filter['probability'].sum()\n",
    "        \n",
    "        dp_vals = list(marg3_filter.itertuples(index=False, name=None))\n",
    "        \n",
    "        probs = [p for _,_,p in dp_vals]\n",
    "        vals = [b for _,b,_ in dp_vals]\n",
    "        \n",
    "        indices = range(0, len(vals))\n",
    "        \n",
    "        i = np.random.choice(indices, p=probs)\n",
    "        final_grades.append(vals[i])\n",
    "        \n",
    "    syn_df[cols[4]] = final_grades\n",
    "    \n",
    "    return syn_df\n",
    "\n",
    "two_marginal_data = dp_synthetic_data_two_marginal(data, columns, 395, 1.0)\n",
    "two_marginal_data"
   ],
   "metadata": {
    "collapsed": false,
    "ExecuteTime": {
     "end_time": "2023-12-10T21:48:54.107915900Z",
     "start_time": "2023-12-10T21:48:53.306420300Z"
    }
   },
   "id": "6b44a63effca93d4"
  },
  {
   "cell_type": "markdown",
   "source": [
    "## Five-Marginals"
   ],
   "metadata": {
    "collapsed": false
   },
   "id": "f2d9dfb53d0e875"
  },
  {
   "cell_type": "code",
   "execution_count": 13,
   "outputs": [],
   "source": [
    "def dp_five_marginal(df, col0, col1, col2, col3, col4, epsilon):\n",
    "    # Empty dataframe to hold everything\n",
    "    out_df = pd.DataFrame()\n",
    "    \n",
    "    # Get crosstab\n",
    "    ct = pd.crosstab([df[col1], df[col2], df[col3], df[col4]], df[col0])\n",
    "    \n",
    "    # Apply laplace mechanism to data in crosstab\n",
    "    dp_ct = ct.map(lambda x: max(laplace_mech(x, 1, epsilon), 0))\n",
    "    \n",
    "    # Convert to list of lists\n",
    "    dp_vals = dp_ct.stack().reset_index().values.tolist()\n",
    "    \n",
    "    # Add columns to dataframe\n",
    "    col1_data = [a for a,_,_,_,_,_ in dp_vals]\n",
    "    col2_data = [b for _,b,_,_,_,_ in dp_vals]\n",
    "    col3_data = [c for _,_,c,_,_,_ in dp_vals]\n",
    "    col4_data = [d for _,_,_,d,_,_ in dp_vals]\n",
    "    col0_data = [e for _,_,_,_,e,_ in dp_vals]\n",
    "    out_df[col0] = col0_data\n",
    "    out_df[col1] = col1_data\n",
    "    out_df[col2] = col2_data\n",
    "    out_df[col3] = col3_data\n",
    "    out_df[col4] = col4_data\n",
    "    \n",
    "    # Calculate probabilities and add to dataframe\n",
    "    probs = [p for _,_,_,_,_,p in dp_vals]\n",
    "    probs_norm = probs / np.sum(probs)\n",
    "    out_df['probability'] = probs_norm\n",
    "    \n",
    "    return out_df"
   ],
   "metadata": {
    "collapsed": false,
    "ExecuteTime": {
     "end_time": "2023-12-10T21:48:54.108812600Z",
     "start_time": "2023-12-10T21:48:54.101993900Z"
    }
   },
   "id": "cde907d887ef8e2f"
  },
  {
   "cell_type": "code",
   "execution_count": 14,
   "outputs": [
    {
     "data": {
      "text/plain": "      age sex  grade_1  grade_2  final_grade\n1157   20   M       30       45           40\n936    15   F       75       70           75\n257    16   F       40       35           40\n1776   15   M       65       75           75\n154    17   F       35       35           40\n...   ...  ..      ...      ...          ...\n199    22   F       35       40           50\n807    22   F       65       65           55\n1255   22   M       40       35           40\n630    21   F       55       55           60\n528    15   F       50       50           50\n\n[395 rows x 5 columns]",
      "text/html": "<div>\n<style scoped>\n    .dataframe tbody tr th:only-of-type {\n        vertical-align: middle;\n    }\n\n    .dataframe tbody tr th {\n        vertical-align: top;\n    }\n\n    .dataframe thead th {\n        text-align: right;\n    }\n</style>\n<table border=\"1\" class=\"dataframe\">\n  <thead>\n    <tr style=\"text-align: right;\">\n      <th></th>\n      <th>age</th>\n      <th>sex</th>\n      <th>grade_1</th>\n      <th>grade_2</th>\n      <th>final_grade</th>\n    </tr>\n  </thead>\n  <tbody>\n    <tr>\n      <th>1157</th>\n      <td>20</td>\n      <td>M</td>\n      <td>30</td>\n      <td>45</td>\n      <td>40</td>\n    </tr>\n    <tr>\n      <th>936</th>\n      <td>15</td>\n      <td>F</td>\n      <td>75</td>\n      <td>70</td>\n      <td>75</td>\n    </tr>\n    <tr>\n      <th>257</th>\n      <td>16</td>\n      <td>F</td>\n      <td>40</td>\n      <td>35</td>\n      <td>40</td>\n    </tr>\n    <tr>\n      <th>1776</th>\n      <td>15</td>\n      <td>M</td>\n      <td>65</td>\n      <td>75</td>\n      <td>75</td>\n    </tr>\n    <tr>\n      <th>154</th>\n      <td>17</td>\n      <td>F</td>\n      <td>35</td>\n      <td>35</td>\n      <td>40</td>\n    </tr>\n    <tr>\n      <th>...</th>\n      <td>...</td>\n      <td>...</td>\n      <td>...</td>\n      <td>...</td>\n      <td>...</td>\n    </tr>\n    <tr>\n      <th>199</th>\n      <td>22</td>\n      <td>F</td>\n      <td>35</td>\n      <td>40</td>\n      <td>50</td>\n    </tr>\n    <tr>\n      <th>807</th>\n      <td>22</td>\n      <td>F</td>\n      <td>65</td>\n      <td>65</td>\n      <td>55</td>\n    </tr>\n    <tr>\n      <th>1255</th>\n      <td>22</td>\n      <td>M</td>\n      <td>40</td>\n      <td>35</td>\n      <td>40</td>\n    </tr>\n    <tr>\n      <th>630</th>\n      <td>21</td>\n      <td>F</td>\n      <td>55</td>\n      <td>55</td>\n      <td>60</td>\n    </tr>\n    <tr>\n      <th>528</th>\n      <td>15</td>\n      <td>F</td>\n      <td>50</td>\n      <td>50</td>\n      <td>50</td>\n    </tr>\n  </tbody>\n</table>\n<p>395 rows × 5 columns</p>\n</div>"
     },
     "execution_count": 14,
     "metadata": {},
     "output_type": "execute_result"
    }
   ],
   "source": [
    "def dp_synthetic_data_five_marginal(df, cols, n, epsilon):\n",
    "    marg = dp_five_marginal(df, *cols, epsilon)\n",
    "    \n",
    "    return marg.sample(n, replace=True, weights=marg['probability']).drop('probability', axis=1)\n",
    "\n",
    "five_marginal_data = dp_synthetic_data_five_marginal(data, columns, 395, 1.0)\n",
    "five_marginal_data"
   ],
   "metadata": {
    "collapsed": false,
    "ExecuteTime": {
     "end_time": "2023-12-10T21:48:54.169531800Z",
     "start_time": "2023-12-10T21:48:54.111159400Z"
    }
   },
   "id": "14301deca2dc8a4c"
  }
 ],
 "metadata": {
  "kernelspec": {
   "display_name": "Python 3 (ipykernel)",
   "language": "python",
   "name": "python3"
  },
  "language_info": {
   "codemirror_mode": {
    "name": "ipython",
    "version": 3
   },
   "file_extension": ".py",
   "mimetype": "text/x-python",
   "name": "python",
   "nbconvert_exporter": "python",
   "pygments_lexer": "ipython3",
   "version": "3.11.4"
  }
 },
 "nbformat": 4,
 "nbformat_minor": 5
}
