{
 "cells": [
  {
   "cell_type": "code",
   "execution_count": 102,
   "id": "cb755c55",
   "metadata": {
    "scrolled": true,
    "ExecuteTime": {
     "end_time": "2023-12-10T20:35:07.998283800Z",
     "start_time": "2023-12-10T20:35:07.986167Z"
    }
   },
   "outputs": [],
   "source": [
    "# Load the data and libraries\n",
    "import pandas as pd\n",
    "import numpy as np\n",
    "import random\n",
    "import matplotlib.pyplot as plt\n",
    "\n",
    "def laplace_mech(v, sensitivity, epsilon):\n",
    "    return v + np.random.laplace(loc=0, scale=sensitivity / epsilon)\n",
    "\n",
    "def laplace_mech_vec(vec, sensitivity, epsilon):\n",
    "    return [v + np.random.laplace(loc=0, scale=sensitivity / epsilon) for v in vec]\n",
    "\n",
    "def gaussian_mech(v, sensitivity, epsilon, delta):\n",
    "    return v + np.random.normal(loc=0, scale=sensitivity * np.sqrt(2*np.log(1.25/delta)) / epsilon)\n",
    "\n",
    "def gaussian_mech_vec(vec, sensitivity, epsilon, delta):\n",
    "    return [v + np.random.normal(loc=0, scale=sensitivity * np.sqrt(2*np.log(1.25/delta)) / epsilon)\n",
    "            for v in vec]\n",
    "\n",
    "def pct_error(orig, priv):\n",
    "    return np.abs(orig - priv)/orig * 100.0\n",
    "\n",
    "def above_threshold(queries, T, epsilon):\n",
    "    T_hat = T + np.random.laplace(loc=0, scale = 2/epsilon)\n",
    "    \n",
    "    for idx, q in enumerate(queries):\n",
    "        nu_i = np.random.laplace(loc=0, scale = 4/epsilon)\n",
    "        if q + nu_i >= T_hat:\n",
    "            return idx\n",
    "    return random.randint(0,len(queries)-1)\n"
   ]
  },
  {
   "cell_type": "code",
   "execution_count": 83,
   "outputs": [],
   "source": [
    "import requests\n",
    "from io import StringIO\n",
    "\n",
    "url = 'https://raw.githubusercontent.com/kierajclarke/Final-Data-Project/main/student_math_clean.csv'\n",
    "response = requests.get(url)\n",
    "raw_data = pd.read_csv(StringIO(response.text))\n"
   ],
   "metadata": {
    "collapsed": false,
    "ExecuteTime": {
     "end_time": "2023-12-10T20:07:11.955136300Z",
     "start_time": "2023-12-10T20:07:11.425128100Z"
    }
   },
   "id": "19cb7003a4aa5c83"
  },
  {
   "cell_type": "markdown",
   "id": "dcf2f762",
   "metadata": {},
   "source": [
    "# Preprocessing"
   ]
  },
  {
   "cell_type": "markdown",
   "source": [
    "First we select columns related to academic metrics and sex and preprocess the data. Since our aim is to analyze the data of highschool students, we want to limit the age range of the students so that outlying ages do not skew accuracy."
   ],
   "metadata": {
    "collapsed": false
   },
   "id": "5866f3b53f552ce6"
  },
  {
   "cell_type": "code",
   "execution_count": 101,
   "id": "3dd9e202",
   "metadata": {
    "ExecuteTime": {
     "end_time": "2023-12-10T20:29:18.034110Z",
     "start_time": "2023-12-10T20:29:18.021133800Z"
    }
   },
   "outputs": [
    {
     "name": "stdout",
     "output_type": "stream",
     "text": [
      "   age sex  grade_1  grade_2  final_grade\n",
      "0   18   F       25       30           30\n",
      "1   17   F       25       25           30\n",
      "2   15   F       35       40           50\n",
      "3   15   F       75       70           75\n",
      "4   16   F       30       50           50\n"
     ]
    }
   ],
   "source": [
    "# Select columns to go into data\n",
    "data = raw_data[['age', 'sex', 'grade_1', 'grade_2', 'final_grade']]\n",
    "\n",
    "\n",
    "# Convert grades to percentages\n",
    "# Multiply by 5 to convert from 0-20 to 0-100\n",
    "data.loc[:, ['grade_1', 'grade_2', 'final_grade']] = raw_data[['grade_1', 'grade_2', 'final_grade']] * 5\n",
    "\n",
    "# Display the first few rows with grades converted to percentages\n",
    "print(data.head())\n",
    "\n",
    "# Separate the data by sex\n",
    "male_data = data[data['sex'] == 'M']\n",
    "female_data = data[data['sex'] == 'F']"
   ]
  },
  {
   "cell_type": "markdown",
   "id": "c8f40316",
   "metadata": {},
   "source": [
    "# Mean Grades"
   ]
  },
  {
   "cell_type": "markdown",
   "source": [
    "## Laplace and Gaussian Differential Privacy"
   ],
   "metadata": {
    "collapsed": false
   },
   "id": "e34a5ff50f2cccba"
  },
  {
   "cell_type": "markdown",
   "source": [
    "#### Actual Means"
   ],
   "metadata": {
    "collapsed": false
   },
   "id": "c16a37e24cfc765b"
  },
  {
   "cell_type": "code",
   "execution_count": 87,
   "id": "5260fd7d",
   "metadata": {
    "ExecuteTime": {
     "end_time": "2023-12-10T20:07:12.027032500Z",
     "start_time": "2023-12-10T20:07:11.986910200Z"
    }
   },
   "outputs": [
    {
     "name": "stdout",
     "output_type": "stream",
     "text": [
      "Mean final grade for Male students: 54.57219251336898\n",
      "Mean final grade for Female students: 49.83173076923077\n"
     ]
    }
   ],
   "source": [
    "# Calculate means for each sex\n",
    "mean_grade_male = male_data['final_grade'].mean()\n",
    "mean_grade_female = female_data['final_grade'].mean()\n",
    "\n",
    "print(\"Mean final grade for Male students:\", mean_grade_male)\n",
    "print(\"Mean final grade for Female students:\", mean_grade_female)\n"
   ]
  },
  {
   "cell_type": "markdown",
   "id": "47973593",
   "metadata": {},
   "source": [
    "#### Laplace Mechanism"
   ]
  },
  {
   "cell_type": "code",
   "execution_count": 88,
   "id": "ff42fc89",
   "metadata": {
    "ExecuteTime": {
     "end_time": "2023-12-10T20:07:12.245086300Z",
     "start_time": "2023-12-10T20:07:11.994524Z"
    }
   },
   "outputs": [
    {
     "name": "stdout",
     "output_type": "stream",
     "text": [
      "Laplace mean final grade for Male students: 56.34758028574126\n",
      "Laplace mean final grade for Female students: 47.20451345543116\n"
     ]
    }
   ],
   "source": [
    "def laplace_mean_grade(df, epsilon):\n",
    "    def create_query(b):\n",
    "        return df.clip(lower=0, upper=b).sum() - df.clip(lower=0, upper=b+1).sum()\n",
    "    \n",
    "    bs = list(range(0, 100, 1))\n",
    "\n",
    "    # Construct the stream of queries\n",
    "    queries = [create_query(b) for b in bs]\n",
    "    \n",
    "    # Run AboveThreshold, using 1/3 of the privacy budget, to find a good upper clipping parameter/sensitivity\n",
    "    epsilon_svt = epsilon / 3\n",
    "    final_b = bs[above_threshold(queries, 0, epsilon_svt)]\n",
    "\n",
    "    # Compute the noisy sum and noisy count, using 1/3 of the privacy budget for each\n",
    "    epsilon_sum = epsilon / 3\n",
    "    epsilon_count = epsilon / 3\n",
    "    \n",
    "    noisy_sum = laplace_mech(df.clip(lower=0, upper=final_b).sum(), final_b, epsilon_sum)\n",
    "    noisy_count = laplace_mech(len(df), 1, epsilon_count)\n",
    "    \n",
    "    return noisy_sum / noisy_count\n",
    "\n",
    "# Apply Laplace noise to counts and sums\n",
    "laplace_mean_grade_male = laplace_mean_grade(male_data['final_grade'], 1.0)\n",
    "laplace_mean_grade_female = laplace_mean_grade(female_data['final_grade'], 1.0)\n",
    "\n",
    "print(\"Laplace mean final grade for Male students:\", laplace_mean_grade_male)\n",
    "print(\"Laplace mean final grade for Female students:\", laplace_mean_grade_female)\n"
   ]
  },
  {
   "cell_type": "markdown",
   "id": "99beef94",
   "metadata": {},
   "source": [
    "#### Gaussian Mechanism"
   ]
  },
  {
   "cell_type": "code",
   "execution_count": 89,
   "id": "1ad0e373",
   "metadata": {
    "ExecuteTime": {
     "end_time": "2023-12-10T20:07:12.517710800Z",
     "start_time": "2023-12-10T20:07:12.249406500Z"
    }
   },
   "outputs": [
    {
     "name": "stdout",
     "output_type": "stream",
     "text": [
      "Noisy mean grades for Male students: 59.379909847070174\n",
      "Noisy mean grades for Female students: 48.21341646163867\n"
     ]
    }
   ],
   "source": [
    "def gaussian_mean_grade(df, epsilon, delta):\n",
    "    def create_query(b):\n",
    "        return df.clip(lower=0, upper=b).sum() - df.clip(lower=0, upper=b+1).sum()\n",
    "    \n",
    "    bs = list(range(0, 100, 1))\n",
    "\n",
    "    # Construct the stream of queries\n",
    "    queries = [create_query(b) for b in bs]\n",
    "    \n",
    "    # Run AboveThreshold, using 1/3 of the privacy budget, to find a good upper clipping parameter/sensitivity\n",
    "    epsilon_svt = epsilon / 3\n",
    "    final_b = bs[above_threshold(queries, 0, epsilon_svt)]\n",
    "\n",
    "    # Compute the noisy sum and noisy count, using 1/3 of the privacy budget for each\n",
    "    epsilon_sum = epsilon / 3\n",
    "    epsilon_count = epsilon / 3\n",
    "    \n",
    "    noisy_sum = gaussian_mech(df.clip(lower=0, upper=final_b).sum(), final_b, epsilon_sum, delta)\n",
    "    noisy_count = gaussian_mech(len(df), 1, epsilon_count, delta)\n",
    "    \n",
    "    return noisy_sum / noisy_count\n",
    "    \n",
    "gaussian_mean_grade_male = gaussian_mean_grade(male_data['final_grade'], 1.0, 1e-5)\n",
    "gaussian_mean_grade_female = gaussian_mean_grade(female_data['final_grade'], 1.0, 1e-5)\n",
    "\n",
    "print(\"Noisy mean grades for Male students:\", gaussian_mean_grade_male)\n",
    "print(\"Noisy mean grades for Female students:\", gaussian_mean_grade_female)"
   ]
  },
  {
   "cell_type": "markdown",
   "source": [
    "## Comparison of Laplace and Gaussian"
   ],
   "metadata": {
    "collapsed": false
   },
   "id": "c400e2ede3a8ad01"
  },
  {
   "cell_type": "markdown",
   "source": [
    "#### Graphs"
   ],
   "metadata": {
    "collapsed": false
   },
   "id": "89734e767feec307"
  },
  {
   "cell_type": "code",
   "execution_count": 97,
   "outputs": [
    {
     "name": "stdout",
     "output_type": "stream",
     "text": [
      "Laplace Male - Done\n",
      "Gaussian Male - Done\n",
      "Laplace Female - Done\n",
      "Gaussian Female - Done\n"
     ]
    }
   ],
   "source": [
    "# Compute values in their own cell so that we don't have to keep rerunning the thing - takes forever\n",
    "laplace_mean_grades_male = [laplace_mean_grade(male_data['final_grade'], 1.0) for _ in range(1000)]\n",
    "print(\"Laplace Male - Done\")\n",
    "gaussian_mean_grades_male = [gaussian_mean_grade(male_data['final_grade'], 1.0, 1e-5) for _ in range(1000)]\n",
    "print(\"Gaussian Male - Done\")\n",
    "\n",
    "laplace_mean_grades_female = [laplace_mean_grade(female_data['final_grade'], 1.0) for _ in range(1000)]\n",
    "print(\"Laplace Female - Done\")\n",
    "gaussian_mean_grades_female = [gaussian_mean_grade(female_data['final_grade'], 1.0, 1e-5) for _ in range(1000)]\n",
    "print(\"Gaussian Female - Done\")"
   ],
   "metadata": {
    "collapsed": false,
    "ExecuteTime": {
     "end_time": "2023-12-10T20:19:08.607643800Z",
     "start_time": "2023-12-10T20:11:36.891286400Z"
    }
   },
   "id": "d8981b78e3b930c6"
  },
  {
   "cell_type": "code",
   "execution_count": 98,
   "outputs": [
    {
     "data": {
      "text/plain": "<matplotlib.legend.Legend at 0x17af43d3750>"
     },
     "execution_count": 98,
     "metadata": {},
     "output_type": "execute_result"
    },
    {
     "data": {
      "text/plain": "<Figure size 640x480 with 1 Axes>",
      "image/png": "[encoded data removed]"
     },
     "metadata": {},
     "output_type": "display_data"
    }
   ],
   "source": [
    "plt.hist(laplace_mean_grades_male, bins=50, label='Laplace')\n",
    "plt.hist(gaussian_mean_grades_male, alpha=.7, bins=50, label='Gaussian')\n",
    "plt.legend()"
   ],
   "metadata": {
    "collapsed": false,
    "ExecuteTime": {
     "end_time": "2023-12-10T20:19:08.867313800Z",
     "start_time": "2023-12-10T20:19:08.604792800Z"
    }
   },
   "id": "e04a33567f744502"
  },
  {
   "cell_type": "code",
   "execution_count": 99,
   "outputs": [
    {
     "data": {
      "text/plain": "<matplotlib.legend.Legend at 0x17af0e289d0>"
     },
     "execution_count": 99,
     "metadata": {},
     "output_type": "execute_result"
    },
    {
     "data": {
      "text/plain": "<Figure size 640x480 with 1 Axes>",
      "image/png": "[encoded data removed]"
     },
     "metadata": {},
     "output_type": "display_data"
    }
   ],
   "source": [
    "plt.hist(laplace_mean_grades_female, bins=50, label='Laplace')\n",
    "plt.hist(gaussian_mean_grades_female, alpha=.7, bins=50, label='Gaussian')\n",
    "plt.legend()"
   ],
   "metadata": {
    "collapsed": false,
    "ExecuteTime": {
     "end_time": "2023-12-10T20:23:55.766598900Z",
     "start_time": "2023-12-10T20:23:55.509739700Z"
    }
   },
   "id": "fc9892b3c0518aa6"
  },
  {
   "cell_type": "markdown",
   "source": [
    "#### Errors"
   ],
   "metadata": {
    "collapsed": false
   },
   "id": "b55f8172c1cb1adf"
  },
  {
   "cell_type": "markdown",
   "source": [],
   "metadata": {
    "collapsed": false
   },
   "id": "5ef327db051f2298"
  },
  {
   "cell_type": "code",
   "execution_count": 105,
   "outputs": [
    {
     "name": "stdout",
     "output_type": "stream",
     "text": [
      "Average Percent Error Laplace Male:  4.396869505739331\n",
      "Average Percent Error Gaussian Male:  11.928420811458535\n",
      "Average Percent Error Laplace Female:  3.947878736301438\n",
      "Average Percent Error Gaussian Female:  10.118756930462784\n"
     ]
    }
   ],
   "source": [
    "laplace_male_pct_error = np.mean([pct_error(mean_grade_male, x) for x in laplace_mean_grades_male])\n",
    "gaussian_male_pct_error = np.mean([pct_error(mean_grade_male, x) for x in gaussian_mean_grades_male])\n",
    "\n",
    "laplace_female_pct_error = np.mean([pct_error(mean_grade_female, x) for x in laplace_mean_grades_female])\n",
    "gaussian_female_pct_error = np.mean([pct_error(mean_grade_female, x) for x in gaussian_mean_grades_female])\n",
    "\n",
    "print(\"Average Percent Error Laplace Male: \", laplace_male_pct_error)\n",
    "print(\"Average Percent Error Gaussian Male: \", gaussian_male_pct_error)\n",
    "\n",
    "print(\"Average Percent Error Laplace Female: \", laplace_female_pct_error)\n",
    "print(\"Average Percent Error Gaussian Female: \", gaussian_female_pct_error)"
   ],
   "metadata": {
    "collapsed": false,
    "ExecuteTime": {
     "end_time": "2023-12-10T20:38:25.866575100Z",
     "start_time": "2023-12-10T20:38:25.854122700Z"
    }
   },
   "id": "8aa877c21b319574"
  }
 ],
 "metadata": {
  "kernelspec": {
   "display_name": "Python 3 (ipykernel)",
   "language": "python",
   "name": "python3"
  },
  "language_info": {
   "codemirror_mode": {
    "name": "ipython",
    "version": 3
   },
   "file_extension": ".py",
   "mimetype": "text/x-python",
   "name": "python",
   "nbconvert_exporter": "python",
   "pygments_lexer": "ipython3",
   "version": "3.11.4"
  }
 },
 "nbformat": 4,
 "nbformat_minor": 5
}
