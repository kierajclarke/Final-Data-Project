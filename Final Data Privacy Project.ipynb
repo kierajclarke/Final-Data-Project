{
 "cells": [
  {
   "cell_type": "code",
   "execution_count": 16,
   "id": "cb755c55",
   "metadata": {
    "scrolled": true
   },
   "outputs": [],
   "source": [
    "# Load the data and libraries\n",
    "import pandas as pd\n",
    "import numpy as np\n",
    "import random\n",
    "from scipy import stats\n",
    "import matplotlib.pyplot as plt\n",
    "\n",
    "def laplace_mech(v, sensitivity, epsilon):\n",
    "    return v + np.random.laplace(loc=0, scale=sensitivity / epsilon)\n",
    "\n",
    "def gaussian_mech(v, sensitivity, epsilon, delta):\n",
    "    return v + np.random.normal(loc=0, scale=sensitivity * np.sqrt(2*np.log(1.25/delta)) / epsilon)\n",
    "\n",
    "import requests\n",
    "from io import StringIO\n",
    "\n",
    "url = 'https://raw.githubusercontent.com/kierajclarke/Final-Data-Project/main/student_math_clean.csv'\n",
    "response = requests.get(url)\n",
    "data = pd.read_csv(StringIO(response.text))\n"
   ]
  },
  {
   "cell_type": "code",
   "execution_count": 32,
   "id": "a23fa0fb",
   "metadata": {},
   "outputs": [
    {
     "name": "stdout",
     "output_type": "stream",
     "text": [
      "['F' 'M']\n"
     ]
    }
   ],
   "source": [
    "unique_sex_values = data['sex'].unique()\n",
    "print(unique_sex_values)"
   ]
  },
  {
   "cell_type": "code",
   "execution_count": 33,
   "id": "957c1b80",
   "metadata": {},
   "outputs": [],
   "source": [
    "# Mapping 'M' to 'Male' and 'F' to 'Female'\n",
    "data['sex_numeric'] = data['sex'].map({'F': 0, 'M': 1})  "
   ]
  },
  {
   "cell_type": "markdown",
   "id": "dcf2f762",
   "metadata": {},
   "source": [
    "First we select columns related to academic metrics and sex and preprocess the data. Since our aim is to analyze the data of highschool students, we want to limit the age range of the students so that outlying ages do not skew accuracy."
   ]
  },
  {
   "cell_type": "code",
   "execution_count": 42,
   "id": "3dd9e202",
   "metadata": {},
   "outputs": [
    {
     "name": "stdout",
     "output_type": "stream",
     "text": [
      "   age sex  grade_1  grade_2  final_grade\n",
      "0   18   F       25       30           30\n",
      "1   17   F       25       25           30\n",
      "2   15   F       35       40           50\n",
      "3   15   F       75       70           75\n",
      "4   16   F       30       50           50\n"
     ]
    }
   ],
   "source": [
    "# Filter the dataset for ages between 15 and 18, including selected columns\n",
    "data = data.loc[(data['age'] >= 15) & (data['age'] <= 18), ['age', 'sex', 'grade_1', 'grade_2', 'final_grade']]\n",
    "\n",
    "\n",
    "# Convert grades to percentages\n",
    "# Multiply by 5 to convert from 0-20 to 0-100\n",
    "data[['grade_1', 'grade_2', 'final_grade']] = data[['grade_1', 'grade_2', 'final_grade']] * 5  \n",
    "\n",
    "# Display the first few rows with grades converted to percentages\n",
    "print(data.head())"
   ]
  },
  {
   "cell_type": "markdown",
   "id": "09610308",
   "metadata": {},
   "source": [
    "Now we want to examine the correlation between male and female"
   ]
  },
  {
   "cell_type": "code",
   "execution_count": 43,
   "id": "73fec8e3",
   "metadata": {},
   "outputs": [
    {
     "name": "stdout",
     "output_type": "stream",
     "text": [
      "Correlation for Female students:\n",
      "              grade_1   grade_2  final_grade\n",
      "grade_1      1.000000  0.839361      0.78435\n",
      "grade_2      0.839361  1.000000      0.89311\n",
      "final_grade  0.784350  0.893110      1.00000\n",
      "\n",
      "Correlation for Males students:\n",
      "              grade_1   grade_2  final_grade\n",
      "grade_1      1.000000  0.857281     0.825429\n",
      "grade_2      0.857281  1.000000     0.928189\n",
      "final_grade  0.825429  0.928189     1.000000\n"
     ]
    }
   ],
   "source": [
    "# Separate the data by gender\n",
    "female_data = data[data['sex'] == 'F']\n",
    "male_data = data[data['sex'] == 'M']\n",
    "\n",
    "# Calculate the correlations for females\n",
    "female_correlation = female_data[['grade_1', 'grade_2', 'final_grade']].corr()\n",
    "print(\"Correlation for Female students:\")\n",
    "print(female_correlation)\n",
    "\n",
    "# Calculate the correlations for males\n",
    "male_correlation = male_data[['grade_1', 'grade_2', 'final_grade']].corr()\n",
    "print(\"\\nCorrelation for Males students:\")\n",
    "print(male_correlation)\n"
   ]
  },
  {
   "cell_type": "markdown",
   "id": "14f44387",
   "metadata": {},
   "source": [
    "In terms of differential privacy, can we get the same results"
   ]
  },
  {
   "cell_type": "code",
   "execution_count": 44,
   "id": "1e353a28",
   "metadata": {},
   "outputs": [
    {
     "name": "stdout",
     "output_type": "stream",
     "text": [
      "sex_numeric    1.131098\n",
      "grade_1        0.670350\n",
      "grade_2       -0.842761\n",
      "final_grade    0.769353\n",
      "Name: sex_numeric, dtype: float64\n"
     ]
    }
   ],
   "source": [
    "# Example of adding Laplace noise to sex-academic metrics correlations\n",
    "epsilon = 1.0 \n",
    "sensitivity = 1.0  \n",
    "\n",
    "noisy_sex_grades_correlation = sex_grades_correlation['sex_numeric'].apply(\n",
    "    lambda x: laplace_mech(x, sensitivity, epsilon)\n",
    ")\n",
    "\n",
    "print(noisy_sex_grades_correlation)\n"
   ]
  },
  {
   "cell_type": "markdown",
   "id": "c8f40316",
   "metadata": {},
   "source": [
    "Computing differentially private means for Male and Female students"
   ]
  },
  {
   "cell_type": "code",
   "execution_count": 45,
   "id": "5260fd7d",
   "metadata": {},
   "outputs": [
    {
     "name": "stdout",
     "output_type": "stream",
     "text": [
      "Mean final grade for Male students: 55.46242774566474\n",
      "Mean final grade for Female students: 50.284974093264246\n"
     ]
    }
   ],
   "source": [
    "# Calculate means for each gender\n",
    "mean_grade_male = data[data['sex'] == 'M']['final_grade'].mean()\n",
    "mean_grade_female = data[data['sex'] == 'F']['final_grade'].mean()\n",
    "\n",
    "print(\"Mean final grade for Male students:\", mean_grade_male)\n",
    "print(\"Mean final grade for Female students:\", mean_grade_female)\n"
   ]
  },
  {
   "cell_type": "markdown",
   "id": "47973593",
   "metadata": {},
   "source": [
    "Now using Laplace Mechanism to create noise "
   ]
  },
  {
   "cell_type": "code",
   "execution_count": 54,
   "id": "ff42fc89",
   "metadata": {},
   "outputs": [
    {
     "name": "stdout",
     "output_type": "stream",
     "text": [
      "Noisy mean final grade for Male students: 102.30098390568511\n",
      "Noisy mean final grade for Female students: 128.15125678407608\n"
     ]
    }
   ],
   "source": [
    "\n",
    "# Set privacy parameters\n",
    "epsilon = 1.0  \n",
    "sensitivity = data['final_grade'].max() - data['final_grade'].min()\n",
    "\n",
    "# Apply Laplace noise to means\n",
    "noisy_mean_grade_male = laplace_mech(mean_grade_male, sensitivity, epsilon)\n",
    "noisy_mean_grade_female = laplace_mech(mean_grade_female, sensitivity, epsilon)\n",
    "\n",
    "print(\"Noisy mean final grade for Male students:\", noisy_mean_grade_male)\n",
    "print(\"Noisy mean final grade for Female students:\", noisy_mean_grade_female)\n"
   ]
  },
  {
   "cell_type": "markdown",
   "id": "99beef94",
   "metadata": {},
   "source": [
    "Now using Gaussian Mechanism to create noise"
   ]
  },
  {
   "cell_type": "code",
   "execution_count": 55,
   "id": "1ad0e373",
   "metadata": {},
   "outputs": [
    {
     "name": "stdout",
     "output_type": "stream",
     "text": [
      "Noisy mean grades for Male students:\n",
      "-333.4129389475042\n",
      "\n",
      "Noisy mean grades for Female students:\n",
      "657.1379654883984\n"
     ]
    }
   ],
   "source": [
    "# Apply Gaussian noise to means for male and female grades\n",
    "delta = 1e-5\n",
    "    \n",
    "noisy_mean_grade_male = gaussian_mech(mean_grade_male, sensitivity, epsilon, delta)\n",
    "noisy_mean_grade_female = gaussian_mech(mean_grade_female, sensitivity, epsilon, delta)\n",
    "\n",
    "print(\"Noisy mean grades for Male students:\")\n",
    "print(noisy_mean_grade_male)\n",
    "\n",
    "print(\"\\nNoisy mean grades for Female students:\")\n",
    "print(noisy_mean_grade_female)"
   ]
  },
  {
   "cell_type": "code",
   "execution_count": null,
   "id": "5f78ae4c",
   "metadata": {},
   "outputs": [],
   "source": []
  },
  {
   "cell_type": "code",
   "execution_count": null,
   "id": "52f2626a",
   "metadata": {},
   "outputs": [],
   "source": []
  }
 ],
 "metadata": {
  "kernelspec": {
   "display_name": "Python 3 (ipykernel)",
   "language": "python",
   "name": "python3"
  },
  "language_info": {
   "codemirror_mode": {
    "name": "ipython",
    "version": 3
   },
   "file_extension": ".py",
   "mimetype": "text/x-python",
   "name": "python",
   "nbconvert_exporter": "python",
   "pygments_lexer": "ipython3",
   "version": "3.11.4"
  }
 },
 "nbformat": 4,
 "nbformat_minor": 5
}
